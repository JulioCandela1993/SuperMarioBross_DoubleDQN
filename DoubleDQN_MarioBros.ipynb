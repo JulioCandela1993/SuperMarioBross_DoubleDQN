{
  "nbformat": 4,
  "nbformat_minor": 0,
  "metadata": {
    "accelerator": "GPU",
    "colab": {
      "name": "DoubleDQN_MarioBros.ipynb",
      "provenance": [],
      "collapsed_sections": [
        "FJRjbyWI5uLK",
        "vdWN2EYq54Sy",
        "lsJce4Wi6E-M",
        "xlGdCQbi6JsE"
      ],
      "toc_visible": true
    },
    "kernelspec": {
      "display_name": "Python 3",
      "language": "python",
      "name": "python3"
    },
    "language_info": {
      "codemirror_mode": {
        "name": "ipython",
        "version": 3
      },
      "file_extension": ".py",
      "mimetype": "text/x-python",
      "name": "python",
      "nbconvert_exporter": "python",
      "pygments_lexer": "ipython3",
      "version": "3.8.5"
    }
  },
  "cells": [
    {
      "cell_type": "markdown",
      "metadata": {
        "id": "p71KhV0ACGTK"
      },
      "source": [
        "# Training a Reinforcement Learning Agent with Double Deep Q Network for Super Mario Bros\r\n",
        "\r\n",
        "The purpose of this research is to implement the current state of\r\n",
        "the art in Double DQN and evaluate its performance in a famous\r\n",
        "game such as Super Mario Bros. We will be using the gym-super-mario-bros environment, which is built on top\r\n",
        "of the OpenAI gym library. A state of the game is represented by\r\n",
        "a list of 4 consecutive frames of 240 × 256 × 3 (height × width ×\r\n",
        "3 channels RGB). The size of the action space in this game is 256\r\n",
        "which corresponds to 256 possible actions of the character.\r\n",
        "\r\n",
        "The research will show the benefits of using CNN in complex and high-dimensional problems in\r\n",
        "Artificial Intelligence. Then, the Double DQN will be presented to\r\n",
        "deal with some of the deficiencies of CNN in DQN so that the agent\r\n",
        "can learn better policies and maximize the rewards.\r\n",
        "\r\n"
      ]
    },
    {
      "cell_type": "code",
      "metadata": {
        "colab": {
          "base_uri": "https://localhost:8080/"
        },
        "id": "TI96BkYYD08P",
        "outputId": "c59952e7-82ce-4278-bef1-9a1bafa0be40"
      },
      "source": [
        "# Install mario bross gym envirnoment\r\n",
        "!pip install gym-super-mario-bros\r\n"
      ],
      "execution_count": 1,
      "outputs": [
        {
          "output_type": "stream",
          "text": [
            "Collecting gym-super-mario-bros\n",
            "\u001b[?25l  Downloading https://files.pythonhosted.org/packages/0e/9b/6afad2bc68c32c647f9433aaa0dafac7e0edff7c940c0c3c67c9ecc6dee7/gym_super_mario_bros-7.3.2-py2.py3-none-any.whl (198kB)\n",
            "\u001b[K     |████████████████████████████████| 204kB 8.5MB/s \n",
            "\u001b[?25hCollecting nes-py>=8.1.2\n",
            "\u001b[?25l  Downloading https://files.pythonhosted.org/packages/72/5e/d652644d718454947b9e26d8a145eb7d1eff0f014dceee7bd88e4894b3f3/nes_py-8.1.6.tar.gz (77kB)\n",
            "\u001b[K     |████████████████████████████████| 81kB 7.2MB/s \n",
            "\u001b[?25hRequirement already satisfied: gym>=0.17.2 in /usr/local/lib/python3.6/dist-packages (from nes-py>=8.1.2->gym-super-mario-bros) (0.17.3)\n",
            "Requirement already satisfied: numpy>=1.18.5 in /usr/local/lib/python3.6/dist-packages (from nes-py>=8.1.2->gym-super-mario-bros) (1.19.5)\n",
            "Requirement already satisfied: pyglet<=1.5.0,>=1.4.0 in /usr/local/lib/python3.6/dist-packages (from nes-py>=8.1.2->gym-super-mario-bros) (1.5.0)\n",
            "Collecting tqdm>=4.48.2\n",
            "\u001b[?25l  Downloading https://files.pythonhosted.org/packages/80/02/8f8880a4fd6625461833abcf679d4c12a44c76f9925f92bf212bb6cefaad/tqdm-4.56.0-py2.py3-none-any.whl (72kB)\n",
            "\u001b[K     |████████████████████████████████| 81kB 8.4MB/s \n",
            "\u001b[?25hRequirement already satisfied: cloudpickle<1.7.0,>=1.2.0 in /usr/local/lib/python3.6/dist-packages (from gym>=0.17.2->nes-py>=8.1.2->gym-super-mario-bros) (1.3.0)\n",
            "Requirement already satisfied: scipy in /usr/local/lib/python3.6/dist-packages (from gym>=0.17.2->nes-py>=8.1.2->gym-super-mario-bros) (1.4.1)\n",
            "Requirement already satisfied: future in /usr/local/lib/python3.6/dist-packages (from pyglet<=1.5.0,>=1.4.0->nes-py>=8.1.2->gym-super-mario-bros) (0.16.0)\n",
            "Building wheels for collected packages: nes-py\n",
            "  Building wheel for nes-py (setup.py) ... \u001b[?25l\u001b[?25hdone\n",
            "  Created wheel for nes-py: filename=nes_py-8.1.6-cp36-cp36m-linux_x86_64.whl size=437776 sha256=5e246b3dcd6d542b239f30253b32809b2708225b6fa58ae9c44aacd851d68787\n",
            "  Stored in directory: /root/.cache/pip/wheels/a7/56/af/b84114d31ea6301a5c4651fb048bd6072646596a6ceb3bbc24\n",
            "Successfully built nes-py\n",
            "Installing collected packages: tqdm, nes-py, gym-super-mario-bros\n",
            "  Found existing installation: tqdm 4.41.1\n",
            "    Uninstalling tqdm-4.41.1:\n",
            "      Successfully uninstalled tqdm-4.41.1\n",
            "Successfully installed gym-super-mario-bros-7.3.2 nes-py-8.1.6 tqdm-4.56.0\n"
          ],
          "name": "stdout"
        }
      ]
    },
    {
      "cell_type": "code",
      "metadata": {
        "colab": {
          "base_uri": "https://localhost:8080/"
        },
        "id": "9mE6MfrCCNT8",
        "outputId": "f84415a1-11a0-4b7b-efa5-59e62a1b143b"
      },
      "source": [
        "# Main Libraries\r\n",
        "\r\n",
        "# Mario Bross environment\r\n",
        "import gym_super_mario_bros\r\n",
        "from gym_super_mario_bros.actions import RIGHT_ONLY\r\n",
        "import gym\r\n",
        "from nes_py.wrappers import JoypadSpace\r\n",
        "\r\n",
        "# Deep Learning\r\n",
        "import torch\r\n",
        "import torch.nn as nn\r\n",
        "from torchvision import transforms\r\n",
        "import torch.nn.functional as F\r\n",
        "\r\n",
        "# Utilities\r\n",
        "import random\r\n",
        "from tqdm import tqdm\r\n",
        "import pickle \r\n",
        "import numpy as np\r\n",
        "import collections \r\n",
        "import cv2\r\n",
        "import time\r\n",
        "import statistics\r\n",
        "\r\n",
        "# Graphic\r\n",
        "from IPython import display\r\n",
        "import matplotlib.pyplot as plt\r\n",
        "\r\n",
        "import torch.nn.functional as nnf\r\n",
        "print(torch.cuda.device_count())\r\n",
        "device = torch.device('cuda:0')\r\n",
        "\r\n",
        "# Resnet - Transfer Learning\r\n",
        "from torchvision import models\r\n",
        "\r\n",
        "# Download CSV from Collab\r\n",
        "import pandas as pd\r\n",
        "from google.colab import files\r\n"
      ],
      "execution_count": 2,
      "outputs": [
        {
          "output_type": "stream",
          "text": [
            "1\n"
          ],
          "name": "stdout"
        }
      ]
    },
    {
      "cell_type": "markdown",
      "metadata": {
        "id": "D0IfvdMJ0DRr"
      },
      "source": [
        "## Pre processing class for SuperMarioBross gym\r\n",
        "\r\n",
        "We have performed several pre-processingsteps to make the training faster and increase the quality of the agents\r\n",
        "\r\n",
        "1. The joypad is always set to RIGHT to reduce the size of theaction space\r\n",
        "2. Resize the frames to 84x84 grayscale images\r\n",
        "3. Normalize pixel values to [0,1]\r\n",
        "4. Use the same action for 4 consecutive steps\r\n",
        "5. Return the max of 2 most recent observations"
      ]
    },
    {
      "cell_type": "code",
      "metadata": {
        "id": "N_2eKR1aDR8C"
      },
      "source": [
        "class SkipAndMax(gym.Wrapper):\r\n",
        "    def __init__(self, env=None, skip=4):\r\n",
        "        \"\"\"\r\n",
        "          1. Take the same action for 'skip' number of obs\r\n",
        "          2. Return the max of 2 most recent obs\r\n",
        "        \"\"\"\r\n",
        "        super(SkipAndMax, self).__init__(env)\r\n",
        "        self.obs_buffer = collections.deque(maxlen=2) # 2 most recent observations\r\n",
        "        self._skip = skip # Use the same action for 'skip' number of obs\r\n",
        "\r\n",
        "    def step(self, action):\r\n",
        "        total_reward = 0.0\r\n",
        "        done = None\r\n",
        "        for _ in range(self._skip):\r\n",
        "            obs, reward, done, info = self.env.step(action)\r\n",
        "            self.obs_buffer.append(obs)\r\n",
        "            total_reward += reward\r\n",
        "            if done:\r\n",
        "                break\r\n",
        "        \r\n",
        "        # Take max of 2 most recent obs\r\n",
        "        max_frame = np.max(np.stack(self.obs_buffer), axis=0) \r\n",
        "\r\n",
        "        return max_frame, total_reward, done, info\r\n",
        "\r\n",
        "    def reset(self):\r\n",
        "        self.obs_buffer.clear() # Clear obs buffer\r\n",
        "        obs = self.env.reset()\r\n",
        "        self.obs_buffer.append(obs) # Append initial obs\r\n",
        "        return obs\r\n",
        "\r\n",
        "\r\n",
        "class Frame_Processing(gym.ObservationWrapper):\r\n",
        "    \"\"\"\r\n",
        "      Downsamples to 84x84 => Greyscales\r\n",
        "    \"\"\"\r\n",
        "    def __init__(self, env=None):\r\n",
        "        super(Frame_Processing, self).__init__(env)\r\n",
        "        old_shape = gym.spaces.Box(low=0, high=255, shape=(84, 84, 1), dtype=np.uint8).shape\r\n",
        "        self.observation_space = gym.spaces.Box(low=0.0, high=1.0, shape=(old_shape[-1], old_shape[0], old_shape[1]),\r\n",
        "                                                dtype=np.float32)\r\n",
        "    def observation(self, obs):\r\n",
        "        obs = Frame_Processing.process(obs)\r\n",
        "        return np.moveaxis(obs, 2, 0) # Image to Pytorch\r\n",
        "\r\n",
        "    @staticmethod\r\n",
        "    def process(frame):\r\n",
        "        # Check input frame size\r\n",
        "        if frame.size == 240 * 256 * 3:\r\n",
        "            img = np.reshape(frame, [240, 256, 3]).astype(np.float32)\r\n",
        "        else:\r\n",
        "            assert False, \"Wrong resolution.\"\r\n",
        "\r\n",
        "        # Converting a colored RGB image into a grayscale image\r\n",
        "        # Formula: Y = 0.299R + 0.587G + 0.114B\r\n",
        "        img = img[:, :, 0] * 0.299 + img[:, :, 1] * 0.587 + img[:, :, 2] * 0.114\r\n",
        "        \r\n",
        "        # Resize to 84*84\r\n",
        "        resized_screen = cv2.resize(img, (84, 110), interpolation=cv2.INTER_AREA)\r\n",
        "        x_t = resized_screen[18:102, :]\r\n",
        "        x_t = np.reshape(x_t, [84, 84, 1])\r\n",
        "        return x_t.astype(np.uint8)\r\n",
        "\r\n",
        "class BufferingWrapper(gym.ObservationWrapper):\r\n",
        "    def __init__(self, env, n_steps, dtype=np.float32):\r\n",
        "        super(BufferingWrapper, self).__init__(env)\r\n",
        "        self.dtype = dtype\r\n",
        "        old_space = env.observation_space\r\n",
        "        self.observation_space = gym.spaces.Box(old_space.low.repeat(n_steps, axis=0),\r\n",
        "                                                old_space.high.repeat(n_steps, axis=0), dtype=dtype)\r\n",
        "\r\n",
        "    def reset(self):\r\n",
        "        self.buffer = np.zeros_like(self.observation_space.low, dtype=self.dtype)\r\n",
        "        return self.observation(self.env.reset())\r\n",
        "\r\n",
        "    def observation(self, observation):\r\n",
        "        self.buffer[:-1] = self.buffer[1:]\r\n",
        "        self.buffer[-1] = observation\r\n",
        "        return np.array(self.buffer).astype(np.float32) / 255.0 # Normalize pixel values in frame --> 0 to 1"
      ],
      "execution_count": 3,
      "outputs": []
    },
    {
      "cell_type": "markdown",
      "metadata": {
        "id": "928MQ22dbErZ"
      },
      "source": [
        "## Mario Bros Environment\r\n",
        "\r\n",
        "The MarioBrossEnvironment class manages the main functions of the environment interaction"
      ]
    },
    {
      "cell_type": "code",
      "metadata": {
        "id": "0KEJV0l1CGTL"
      },
      "source": [
        "## Implemented according\r\n",
        "class MarioBrossEnvironment:\r\n",
        "  def __init__(self, skip = 4, buffer_step = 4):\r\n",
        "      # Initialize and wrap the environment\r\n",
        "      self.env = gym_super_mario_bros.make('SuperMarioBros-1-1-v0')\r\n",
        "      self.env = SkipAndMax(self.env)\r\n",
        "      self.env = Frame_Processing(self.env)\r\n",
        "      self.env = BufferingWrapper(self.env, 4)\r\n",
        "      self.env = JoypadSpace(self.env, RIGHT_ONLY) \r\n",
        "\r\n",
        "      self.env.seed(500)\r\n",
        "      self.nb_step = 0\r\n",
        "      self.observation_space_final = self.env.observation_space.shape\r\n",
        "      self.action_space = self.env.action_space.n\r\n",
        "  \r\n",
        "  def sample_action(self):\r\n",
        "        return self.env.action_space.sample()\r\n",
        "\r\n",
        "  def reset(self):\r\n",
        "      self.nb_step = 0\r\n",
        "      state = self.env.reset()\r\n",
        "      state = torch.unsqueeze(torch.tensor(state),0)\r\n",
        "      return state\r\n",
        "\r\n",
        "  def step(self,action):\r\n",
        "      state, reward, done, info = self.env.step(action)\r\n",
        "      state = torch.unsqueeze(torch.tensor(state),0)\r\n",
        "      return state, reward, done, info\r\n",
        "\r\n",
        "  def render(self):\r\n",
        "        self.env.render()\r\n",
        "\r\n",
        "  def close(self):\r\n",
        "        self.env.close()\r\n",
        "\r\n",
        "  def show_state(self,info=\"\"):\r\n",
        "        plt.figure(3)\r\n",
        "        plt.clf()\r\n",
        "        plt.imshow(self.env.render(mode='rgb_array'))\r\n",
        "        plt.title(\"Episode: %d %s\" % (self.nb_step, info))\r\n",
        "        plt.axis('off')\r\n",
        "\r\n",
        "        display.clear_output(wait=True)\r\n",
        "        display.display(plt.gcf())\r\n",
        "\r\n"
      ],
      "execution_count": 4,
      "outputs": []
    },
    {
      "cell_type": "markdown",
      "metadata": {
        "id": "Ku1VfVudbKMZ"
      },
      "source": [
        "## Deep Neural Network: Convolutional Neural Network Architectures\r\n",
        "\r\n",
        "The objective is to analyze what architectures wor kbetter for this learning environment.\r\n",
        "\r\n",
        "a) The Classic CNN contains 3 convolution layers and 1 linear hidden layer with RELU activation both.\r\n",
        "\r\n",
        "b) The Deeper CNN adds 2 more convolutional layers to (a). \r\n",
        "\r\n",
        "c) The Wider CNN doubles the number of filters in the convolutional layers of (a). \r\n",
        "\r\n",
        "d) By last, theMaxPooling CNN (adds max pooling after the RELU activationof each convolutional layers in (a)"
      ]
    },
    {
      "cell_type": "markdown",
      "metadata": {
        "id": "vdzmlVe-5h62"
      },
      "source": [
        "### Classic Convolutional Neural Network \r\n",
        "The Classic CNN contains 3 convolution layers and 1 linear hidden layer with RELU activation both"
      ]
    },
    {
      "cell_type": "code",
      "metadata": {
        "id": "z_BhVqMXated"
      },
      "source": [
        "# Basic CNN\r\n",
        "class Classic_ConvNet(nn.Module):\r\n",
        "  def __init__(self, input_size, n_actions):\r\n",
        "        super(Classic_ConvNet, self).__init__()\r\n",
        "        self.input_size = input_size\r\n",
        "        self.output_size = n_actions\r\n",
        "\r\n",
        "        self.conv = nn.Sequential(\r\n",
        "            nn.Conv2d(self.input_size[0], 32, kernel_size=8, stride=4),\r\n",
        "            nn.ReLU(),\r\n",
        "            nn.Conv2d(32, 64, kernel_size=4, stride=2),\r\n",
        "            nn.ReLU(),\r\n",
        "            nn.Conv2d(64, 64, kernel_size=3, stride=1),\r\n",
        "            nn.ReLU()\r\n",
        "        )\r\n",
        "        \r\n",
        "        conv_out_size = self.getShapeAfterConvolutions(self.input_size)\r\n",
        "\r\n",
        "        self.fc = nn.Sequential(\r\n",
        "            nn.Linear(conv_out_size, 512),\r\n",
        "            nn.ReLU(),\r\n",
        "            nn.Linear(512, self.output_size)\r\n",
        "        )\r\n",
        "    \r\n",
        "  def getShapeAfterConvolutions(self, shape):\r\n",
        "      o = self.conv(torch.zeros(1, *shape))\r\n",
        "      return int(np.prod(o.size()))\r\n",
        "\r\n",
        "  def forward(self, x):\r\n",
        "      conv_out = self.conv(x)\r\n",
        "      conv_out=conv_out.view(x.size()[0], -1)\r\n",
        "      return self.fc(conv_out)\r\n"
      ],
      "execution_count": 5,
      "outputs": []
    },
    {
      "cell_type": "markdown",
      "metadata": {
        "id": "FJRjbyWI5uLK"
      },
      "source": [
        "### Deep Convolutional Network\r\n",
        "The Deeper CNN adds 2 more convolutional layers to (a) resulting in 5 Convolutional layers "
      ]
    },
    {
      "cell_type": "code",
      "metadata": {
        "id": "gsJt7ixIBDD5"
      },
      "source": [
        "# Deeper CNN: More CNN layers and linear layers\r\n",
        "class Deeper_ConvNet(nn.Module):\r\n",
        "  def __init__(self, input_size, n_actions):\r\n",
        "        super(Deeper_ConvNet, self).__init__()\r\n",
        "        self.input_size = input_size\r\n",
        "        self.output_size = n_actions\r\n",
        "\r\n",
        "        self.conv = nn.Sequential(\r\n",
        "            nn.Conv2d(self.input_size[0], 32, kernel_size=8, stride=4),\r\n",
        "            nn.ReLU(),\r\n",
        "            nn.Conv2d(32, 64, kernel_size=4, stride=2),\r\n",
        "            nn.ReLU(),\r\n",
        "            nn.Conv2d(64, 64, kernel_size=3, stride=1),\r\n",
        "            nn.ReLU(),\r\n",
        "            nn.Conv2d(64, 64, kernel_size=3, stride=1),\r\n",
        "            nn.ReLU(),\r\n",
        "            nn.Conv2d(64, 32, kernel_size=3, stride=1),\r\n",
        "            nn.ReLU()\r\n",
        "        )\r\n",
        "        \r\n",
        "        conv_out_size = self.getShapeAfterConvolutions(self.input_size)\r\n",
        "\r\n",
        "        self.fc = nn.Sequential(\r\n",
        "            nn.Linear(conv_out_size, 512),\r\n",
        "            nn.ReLU(),\r\n",
        "            nn.Linear(512, self.output_size)\r\n",
        "        )\r\n",
        "    \r\n",
        "  def getShapeAfterConvolutions(self, shape):\r\n",
        "      o = self.conv(torch.zeros(1, *shape))\r\n",
        "      return int(np.prod(o.size()))\r\n",
        "\r\n",
        "  def forward(self, x):\r\n",
        "      conv_out = self.conv(x)\r\n",
        "      conv_out=conv_out.view(x.size()[0], -1)\r\n",
        "      return self.fc(conv_out)"
      ],
      "execution_count": 6,
      "outputs": []
    },
    {
      "cell_type": "markdown",
      "metadata": {
        "id": "vdWN2EYq54Sy"
      },
      "source": [
        "### Wider Convolutional Netowrk\r\n",
        "The Wider CNN doubles the number of filters in the convolutional layers of (a)"
      ]
    },
    {
      "cell_type": "code",
      "metadata": {
        "id": "WAT0Qg2nBl6t"
      },
      "source": [
        "# Wider CNN: More Neurons\r\n",
        "class Wider_ConvNet(nn.Module):\r\n",
        "  def __init__(self, input_size, n_actions):\r\n",
        "        super(Wider_ConvNet, self).__init__()\r\n",
        "        self.input_size = input_size\r\n",
        "        self.output_size = n_actions\r\n",
        "\r\n",
        "        self.conv = nn.Sequential(\r\n",
        "            nn.Conv2d(self.input_size[0], 64, kernel_size=8, stride=4),\r\n",
        "            nn.ReLU(),\r\n",
        "            nn.Conv2d(64, 128, kernel_size=4, stride=2),\r\n",
        "            nn.ReLU(),\r\n",
        "            nn.Conv2d(128, 128, kernel_size=3, stride=1),\r\n",
        "            nn.ReLU()\r\n",
        "        )\r\n",
        "        \r\n",
        "        conv_out_size = self.getShapeAfterConvolutions(self.input_size)\r\n",
        "\r\n",
        "        self.fc = nn.Sequential(\r\n",
        "            nn.Linear(conv_out_size, 1024),\r\n",
        "            nn.ReLU(),\r\n",
        "            nn.Linear(1024, self.output_size)\r\n",
        "        )\r\n",
        "    \r\n",
        "  def getShapeAfterConvolutions(self, shape):\r\n",
        "      o = self.conv(torch.zeros(1, *shape))\r\n",
        "      return int(np.prod(o.size()))\r\n",
        "\r\n",
        "  def forward(self, x):\r\n",
        "      conv_out = self.conv(x)\r\n",
        "      conv_out=conv_out.view(x.size()[0], -1)\r\n",
        "      return self.fc(conv_out)"
      ],
      "execution_count": 7,
      "outputs": []
    },
    {
      "cell_type": "markdown",
      "metadata": {
        "id": "lsJce4Wi6E-M"
      },
      "source": [
        "### Classic Convolutional Network with MaxPooling\r\n",
        "\r\n",
        "The MaxPooling CNN (adds max pooling after the RELU activationof each convolutional layers in (a)"
      ]
    },
    {
      "cell_type": "code",
      "metadata": {
        "id": "yXl2wGLnCDSs"
      },
      "source": [
        "# Classic CNN with Max Pooling\r\n",
        "class MaxPoolingClassic_ConvNet(nn.Module):\r\n",
        "  def __init__(self, input_size, n_actions):\r\n",
        "        super(MaxPoolingClassic_ConvNet, self).__init__()\r\n",
        "        self.input_size = input_size\r\n",
        "        self.output_size = n_actions\r\n",
        "\r\n",
        "        self.conv = nn.Sequential(\r\n",
        "            nn.Conv2d(self.input_size[0], 32, kernel_size=8, stride=2),\r\n",
        "            nn.ReLU(),\r\n",
        "            nn.MaxPool2d(kernel_size=2, stride=2),\r\n",
        "            nn.Conv2d(32, 64, kernel_size=4, stride=2),\r\n",
        "            nn.ReLU(),\r\n",
        "            nn.MaxPool2d(kernel_size=2, stride=2),\r\n",
        "            nn.Conv2d(64, 64, kernel_size=3, stride=1),\r\n",
        "            nn.ReLU(),\r\n",
        "            nn.MaxPool2d(kernel_size=2, stride=2)\r\n",
        "        )\r\n",
        "        \r\n",
        "        conv_out_size = self.getShapeAfterConvolutions(self.input_size)\r\n",
        "\r\n",
        "        self.fc = nn.Sequential(\r\n",
        "            nn.Linear(conv_out_size, 512),\r\n",
        "            nn.ReLU(),\r\n",
        "            nn.Linear(512, self.output_size)\r\n",
        "        )\r\n",
        "    \r\n",
        "  def getShapeAfterConvolutions(self, shape):\r\n",
        "      o = self.conv(torch.zeros(1, *shape))\r\n",
        "      return int(np.prod(o.size()))\r\n",
        "\r\n",
        "  def forward(self, x):\r\n",
        "      conv_out = self.conv(x)\r\n",
        "      conv_out=conv_out.view(x.size()[0], -1)\r\n",
        "      return self.fc(conv_out)\r\n"
      ],
      "execution_count": 8,
      "outputs": []
    },
    {
      "cell_type": "markdown",
      "metadata": {
        "id": "xlGdCQbi6JsE"
      },
      "source": [
        "### Resnet\r\n",
        "Model from a pre trained model (not tested because of time, but it's interesting for future experiments)."
      ]
    },
    {
      "cell_type": "code",
      "metadata": {
        "id": "tPjMSSlKHIjp"
      },
      "source": [
        "class ResNet(nn.Module):\r\n",
        "    def __init__(self, \r\n",
        "                 model_base,  # resnet backbone\r\n",
        "                 input_size,\r\n",
        "                 n_actions,\r\n",
        "                 trainable_features=True # whether training the feature extractor\r\n",
        "                 ):\r\n",
        "        super(ResNet, self).__init__()\r\n",
        "\r\n",
        "        self.input_size = input_size\r\n",
        "        self.output_size = n_actions\r\n",
        "\r\n",
        "        self.trainable_features = trainable_features\r\n",
        "\r\n",
        "        # Initial conv\r\n",
        "        self.conv_home = nn.Conv2d(self.input_size[0], 3, kernel_size=1, stride=1)\r\n",
        "        \r\n",
        "        # For colors, see the picture of resnet\r\n",
        "        # Orange \r\n",
        "        self.conv1 = model_base.conv1\r\n",
        "        self.bn1 = model_base.bn1\r\n",
        "        self.relu = model_base.relu\r\n",
        "        self.maxpool = model_base.maxpool\r\n",
        "\r\n",
        "        # Purple\r\n",
        "        self.layer1 = model_base.layer1\r\n",
        "        \r\n",
        "        # Green\r\n",
        "        self.layer2 = model_base.layer2\r\n",
        "\r\n",
        "        # Red \r\n",
        "        self.layer3 = model_base.layer3\r\n",
        "\r\n",
        "        # Blue\r\n",
        "        self.layer4 = model_base.layer4\r\n",
        "        \r\n",
        "\r\n",
        "        # Grey\r\n",
        "        self.avgpool = model_base.avgpool\r\n",
        "\r\n",
        "        # Feature extractor\r\n",
        "        self.feature_layers = nn.Sequential(self.conv_home, self.conv1, self.bn1, self.relu, self.maxpool, \r\n",
        "                                            self.layer1, self.layer2, self.layer3, self.layer4, \r\n",
        "                                            self.avgpool)\r\n",
        "        \r\n",
        "        self.fc = nn.Linear(model_base.fc.in_features, self.output_size)\r\n",
        "        self.__in_features = model_base.fc.in_features\r\n",
        "\r\n",
        "    def forward(self, x): # TODO\r\n",
        "        features = self.feature_layers(x) # TODO\r\n",
        "        features = features.view(features.size(0), -1)\r\n",
        "        y = self.fc(features) # TODO\r\n",
        "        return y\r\n"
      ],
      "execution_count": 9,
      "outputs": []
    },
    {
      "cell_type": "markdown",
      "metadata": {
        "id": "stYg8tQWdM2C"
      },
      "source": [
        "## Double DQN Agent\r\n",
        "\r\n",
        "This represent the Deep Q Network Agent with all the necessary functions to start the learning. All the magic is here!"
      ]
    },
    {
      "cell_type": "code",
      "metadata": {
        "id": "WwvBJpbKdldf"
      },
      "source": [
        "class DeepQNetworkAgent:\r\n",
        "  def __init__(self, model,env, double, resnet_pretrained = None, test_epoch = 50):\r\n",
        "    \r\n",
        "    # Environment attributes\r\n",
        "    self.env=env\r\n",
        "    self.num_actions = self.env.action_space\r\n",
        "    self.state_shape = self.env.observation_space_final\r\n",
        "    self.test_epoch = test_epoch\r\n",
        "    \r\n",
        "    # Agent parameters\r\n",
        "    self.gamma = None\r\n",
        "    self.eps = None\r\n",
        "    self.eps_min = None\r\n",
        "    self.eps_decay = None\r\n",
        "    self.double = double\r\n",
        "    self.end_position = 0\r\n",
        "\r\n",
        "    # Double Neural Networks\r\n",
        "    if resnet_pretrained == None:\r\n",
        "      self.online_net = model(self.state_shape,self.num_actions)\r\n",
        "      self.target_net = model(self.state_shape,self.num_actions)\r\n",
        "    else:\r\n",
        "      self.online_net = model(resnet_pretrained,self.state_shape,self.num_actions)\r\n",
        "      self.target_net = model(resnet_pretrained,self.state_shape,self.num_actions)\r\n",
        "    \r\n",
        "    # Neural Networks parameters  \r\n",
        "    self.optimizer = None\r\n",
        "    self.loss = None\r\n",
        "    self.cuda = False\r\n",
        "    self.train_loader = None\r\n",
        "    self.weight_decay = None\r\n",
        "    self.lr = None\r\n",
        "    self.dropout = None\r\n",
        "\r\n",
        "    # Experiences memory\r\n",
        "    self.memory_size = None\r\n",
        "    self.mem_element = 0\r\n",
        "    self.mem_state = None\r\n",
        "    self.mem_nextstate = None\r\n",
        "    self.mem_reward = None\r\n",
        "    self.mem_action = None\r\n",
        "    self.mem_done = None\r\n",
        "    self.batch_size = None   \r\n",
        "\r\n",
        "  def compile(self, optimizer, loss, \r\n",
        "              gamma, memory_size, batch_size, eps_max, eps_min, eps_decay, copy_model , \r\n",
        "              dropout = 0.05,lr=0.001, weight_decay=0.001, cuda=True):\r\n",
        "    self.loss = loss()\r\n",
        "    self.gamma = gamma\r\n",
        "    self.memory_size = memory_size\r\n",
        "    self.batch_size = batch_size   \r\n",
        "    self.eps = eps_max\r\n",
        "    self.eps_max = eps_max\r\n",
        "    self.eps_min = eps_min\r\n",
        "    self.eps_decay = eps_decay\r\n",
        "    self.copy_model = copy_model\r\n",
        "    self.total_iter = 0\r\n",
        "    self.dropout = dropout\r\n",
        "    self.weight_decay = weight_decay\r\n",
        "    self.lr = lr\r\n",
        "    self.cuda = cuda\r\n",
        "\r\n",
        "    # Initialize the memory\r\n",
        "    self.mem_state = torch.zeros(self.memory_size, *self.state_shape).float()\r\n",
        "    self.mem_nextstate = torch.zeros(self.memory_size, *self.state_shape).float()\r\n",
        "    self.mem_reward = torch.zeros(self.memory_size, 1).float()\r\n",
        "    self.mem_action = torch.zeros(self.memory_size, 1).float()\r\n",
        "    self.mem_done = torch.zeros(self.memory_size, 1).float()\r\n",
        "\r\n",
        "    try: \r\n",
        "      self.optimizer = optimizer(params=self.online_net.parameters(), lr=lr, weight_decay=weight_decay)\r\n",
        "    except:\r\n",
        "      print('Requires the creation of a model')    \r\n",
        "\r\n",
        "    if self.cuda:\r\n",
        "      self.online_net = self.online_net.cuda()\r\n",
        "      self.target_net = self.target_net.cuda()  \r\n",
        "\r\n",
        "  def act(self, state):\r\n",
        "    if self.cuda:\r\n",
        "      state = state.cuda().float()\r\n",
        "    else:\r\n",
        "      state = state.float()\r\n",
        "\r\n",
        "    # Choose exploration or exploitation\r\n",
        "    if random.random() < self.eps:\r\n",
        "      #Exploration\r\n",
        "      return random.randint(0,self.num_actions-1)\r\n",
        "    # Exploitation\r\n",
        "    if self.double:\r\n",
        "      return torch.argmax(self.online_net(state)).item()\r\n",
        "    else:\r\n",
        "      return torch.argmax(self.target_net(state)).item()\r\n",
        "\r\n",
        "  def train_step(self,state_batch,nextstate_batch,reward_batch,\r\n",
        "                 action_batch,done_batch):\r\n",
        "    \r\n",
        "    self.optimizer.zero_grad()\r\n",
        "    ## Use GPU\r\n",
        "    if self.cuda:\r\n",
        "      state_batch = state_batch.cuda()\r\n",
        "      nextstate_batch = nextstate_batch.cuda()\r\n",
        "      reward_batch = reward_batch.cuda()\r\n",
        "      action_batch = action_batch.cuda()\r\n",
        "      done_batch = done_batch.cuda()\r\n",
        "    \r\n",
        "    ## Double DQN Learning: decouple selection with online_net and evaluation with target_net\r\n",
        "    if self.double:\r\n",
        "      selection = torch.argmax(self.online_net(nextstate_batch), dim = 1).unsqueeze(1)\r\n",
        "      evaluation = self.target_net(nextstate_batch).gather(1, selection.long())\r\n",
        "      target = reward_batch + torch.mul(self.gamma *  evaluation, 1 - done_batch).float()\r\n",
        "    ## DQN Learning: all is calculated with target_net\r\n",
        "    else:\r\n",
        "      target = reward_batch + torch.mul((self.gamma * \r\n",
        "                  self.target_net(nextstate_batch).max(1).values.unsqueeze(1)), \r\n",
        "                  1 - done_batch).float()\r\n",
        "    \r\n",
        "    actual = self.online_net(state_batch).gather(1, action_batch.long()).float() \r\n",
        "    # calculate the loss of the target (new rewards) and actual (calculated with online net)\r\n",
        "    loss = self.loss(target , actual)\r\n",
        "    loss.backward()\r\n",
        "    self.optimizer.step()\r\n",
        "\r\n",
        "  def experience_replay(self):\r\n",
        "    # Experience replay:  get a sample from all the memory and train\r\n",
        "    min_sample = min(self.batch_size,self.mem_element)\r\n",
        "    sample_batch = random.choices(range(self.mem_element), k=min_sample)\r\n",
        "    state_batch = self.mem_state[sample_batch]\r\n",
        "    nextstate_batch = self.mem_nextstate[sample_batch]\r\n",
        "    reward_batch = self.mem_reward[sample_batch]\r\n",
        "    action_batch = self.mem_action[sample_batch]\r\n",
        "    done_batch = self.mem_done[sample_batch]\r\n",
        "\r\n",
        "    self.train_step(state_batch,nextstate_batch,reward_batch,\r\n",
        "                 action_batch,done_batch)\r\n",
        "\r\n",
        "  def update(self,state,action , nextstate, reward,done):\r\n",
        "\r\n",
        "    ## Update memory with new values\r\n",
        "    self.mem_state[self.end_position] = state.float()\r\n",
        "    self.mem_nextstate[self.end_position] = nextstate.float()\r\n",
        "    self.mem_reward[self.end_position] = torch.tensor([reward]).unsqueeze(0).float()\r\n",
        "    self.mem_action[self.end_position] = torch.tensor([action]).unsqueeze(0).float()\r\n",
        "    self.mem_done[self.end_position] = torch.tensor([done]).unsqueeze(0).float()\r\n",
        "\r\n",
        "    self.end_position = (self.end_position + 1) % self.memory_size  # FIFO tensor\r\n",
        "    self.mem_element = min(self.mem_element + 1, self.memory_size)\r\n",
        "\r\n",
        "\r\n",
        "    # Update the target_net with the parameters of the online_net\r\n",
        "    if self.total_iter % self.copy_model == 0:\r\n",
        "            self.transferParameters()\r\n",
        "    #  Train the model with experience replay\r\n",
        "    if self.mem_element>=self.batch_size:\r\n",
        "      self.experience_replay()\r\n",
        "    \r\n",
        "    self.total_iter+=1\r\n",
        "\r\n",
        "  def run(self, epochs, max_iter = 500):\r\n",
        "    #List of rewards per epoch\r\n",
        "    list_rewards = []\r\n",
        "    list_test_rewards = []\r\n",
        "    for epoch in tqdm(range(epochs)):\r\n",
        "      time_act = 0\r\n",
        "      time_get_env = 0\r\n",
        "      time_update = 0\r\n",
        "      time_total = 0\r\n",
        "      state = self.env.reset()\r\n",
        "      epoch_reward = 0\r\n",
        "      iter = 0\r\n",
        "      while True:\r\n",
        "        start_0 = time.time()\r\n",
        "        # select best action\r\n",
        "        action = self.act(state)\r\n",
        "        time_act += time.time() - start_0\r\n",
        "        start_1 = time.time()\r\n",
        "        # Apply action and get new state and rewards\r\n",
        "        nextstate, reward, done, info = self.env.step(action)\r\n",
        "        time_get_env += time.time() - start_1\r\n",
        "        start_2 = time.time()\r\n",
        "        # Update the model with the last interaction\r\n",
        "        self.update(state,action , nextstate, reward,done)\r\n",
        "        time_update += time.time() - start_2\r\n",
        "        # Move to the next state\r\n",
        "        state = torch.tensor(nextstate)\r\n",
        "        epoch_reward+=reward\r\n",
        "        iter+=1\r\n",
        "        time_total += time.time() - start_0\r\n",
        "        # If Mario died or we won, finish the epoch\r\n",
        "        if done or iter>=max_iter:\r\n",
        "          break\r\n",
        "\r\n",
        "      # Decay the eps every 2 epochs\r\n",
        "      if epoch>0 and epoch%2 == 0:\r\n",
        "        self.eps *= self.eps_decay\r\n",
        "        self.eps = max(self.eps, self.eps_min)\r\n",
        "        print(\"eps = \", self.eps)\r\n",
        "\r\n",
        "      # Test the performance of the net each test_epoch (without exploration)\r\n",
        "      if epoch>0 and epoch%self.test_epoch == 0:\r\n",
        "        test_rewards = self.test(4,4000,False)\r\n",
        "        list_test_rewards.append(test_rewards)\r\n",
        "\r\n",
        "      list_rewards.append(epoch_reward)\r\n",
        "      print(\"\")\r\n",
        "      print(\"Reward: \", epoch_reward)\r\n",
        "      #print(\"Avg_time_getenv: \", time_get_env)\r\n",
        "      #print(\"Avg_time_update: \", time_update)\r\n",
        "      #print(\"Avg_time_total: \", time_total)\r\n",
        "\r\n",
        "    return (list_rewards,list_test_rewards)\r\n",
        "\r\n",
        "  def transferParameters(self):\r\n",
        "    self.target_net.load_state_dict(self.online_net.state_dict())\r\n",
        "\r\n",
        "  def test(self, epochs = 50, maxiter = 1000, show = False, eps_test = 0.01):\r\n",
        "    # Set exploration eps as 0 to evaluate only the model performance\r\n",
        "    eps_old = self.eps\r\n",
        "    self.eps = eps_test\r\n",
        "    list_rewards = []\r\n",
        "    done = True\r\n",
        "    for ep in range(epochs):\r\n",
        "      epoch_reward = 0\r\n",
        "      for step in range(maxiter):\r\n",
        "          if done:\r\n",
        "              state = self.env.reset()\r\n",
        "          action = self.act(state)\r\n",
        "          nextstate, reward, done, info = self.env.step(action)\r\n",
        "          epoch_reward+=reward\r\n",
        "          state = torch.tensor(nextstate)\r\n",
        "          if show:\r\n",
        "            self.env.show_state()\r\n",
        "          if done:\r\n",
        "            break\r\n",
        "      list_rewards.append(epoch_reward)\r\n",
        "    self.eps = eps_old\r\n",
        "    return list_rewards\r\n",
        "\r\n",
        "  # Save model to reuse it later\r\n",
        "  def saveParameters(self, path):\r\n",
        "    torch.save(self.online_net.state_dict(), path)\r\n",
        "    \r\n",
        "  # Load parameters from a pretrained model.\r\n",
        "  def pretrainedParameters(self, path):\r\n",
        "    self.online_net.load_state_dict(torch.load(path))\r\n",
        "    self.target_net.load_state_dict(torch.load(path))"
      ],
      "execution_count": 10,
      "outputs": []
    },
    {
      "cell_type": "markdown",
      "metadata": {
        "id": "MmEz2VNedU1B"
      },
      "source": [
        "## Time to train our agent in Mario Bros Game!\r\n",
        "\r\n",
        "In this project, we are going to train RL agents with Double DQN to play the first level of Super Mario Bros (NES). The main code for training is the following:\r\n",
        "\r\n",
        "```python\r\n",
        "mario = MarioBrossEnvironment()\r\n",
        "agent = DeepQNetworkAgent(Classic_ConvNet, mario, double = True)\r\n",
        "agent.compile( optimizer = torch.optim.Adam, loss = nn.SmoothL1Loss, \r\n",
        "              gamma = 0.9, memory_size = 10000, batch_size = 32, \r\n",
        "              eps_max = 1, eps_min = 0.02, lr = 0.00025, eps_decay = 0.99, copy_model = 5000)\r\n",
        "## The agent learns here!!\r\n",
        "rewards,test_rewards_run = agent.run(5000, 4000)\r\n",
        "```\r\n",
        "\r\n",
        "In order to keep the pre-trained models, we have created a function to save the parameters and download them in our local disk:\r\n",
        "\r\n",
        "```python\r\n",
        "agent.saveParameters(\"Online_Parameters.pt\")\r\n",
        "files.download(\"Online_Parameters.pt\")\r\n",
        "```\r\n",
        "\r\n",
        "Since we have already trained many models and for reproducibility, we are going to load the best model after the architecture selection and hyperparameter tuning "
      ]
    },
    {
      "cell_type": "markdown",
      "metadata": {
        "id": "Glws58ewCuuE"
      },
      "source": [
        "### Download the best model!"
      ]
    },
    {
      "cell_type": "code",
      "metadata": {
        "colab": {
          "base_uri": "https://localhost:8080/"
        },
        "id": "HVYin57Q5z7l",
        "outputId": "10064ebe-1e3b-467f-d348-4efa1eb465d4"
      },
      "source": [
        "# Download the best model from github\r\n",
        "!wget -nv https://github.com/JulioCandela1993/SuperMarioBross_DoubleDQN/blob/master/Test/Parameters%20tuning/Classic_ConvNet/06/Online_Parameters.pt?raw=true -O model.pt\r\n",
        "# Download the results of the execution\r\n",
        "!wget -nv https://raw.githubusercontent.com/JulioCandela1993/SuperMarioBross_DoubleDQN/master/Test/Parameters%20tuning/Classic_ConvNet/06/DQN.csv -O DoubleDQN.csv\r\n"
      ],
      "execution_count": 11,
      "outputs": [
        {
          "output_type": "stream",
          "text": [
            "2021-01-31 11:00:08 URL:https://raw.githubusercontent.com/JulioCandela1993/SuperMarioBross_DoubleDQN/master/Test/Parameters%20tuning/Classic_ConvNet/06/Online_Parameters.pt [6750426/6750426] -> \"model.pt\" [1]\n",
            "2021-01-31 11:00:09 URL:https://raw.githubusercontent.com/JulioCandela1993/SuperMarioBross_DoubleDQN/master/Test/Parameters%20tuning/Classic_ConvNet/06/DQN.csv [33112/33112] -> \"DoubleDQN.csv\" [1]\n"
          ],
          "name": "stdout"
        }
      ]
    },
    {
      "cell_type": "markdown",
      "metadata": {
        "id": "MgHNPaJwC3K-"
      },
      "source": [
        "### Start the Super Mario Bross environment"
      ]
    },
    {
      "cell_type": "code",
      "metadata": {
        "id": "SVHvlWSfGMmc"
      },
      "source": [
        "mario = MarioBrossEnvironment()\r\n",
        "agent = DeepQNetworkAgent(Classic_ConvNet, mario, double = True)\r\n",
        "# Since we already have our model trained, we reduce the initial exploration rate to the minimum (eps_max).\r\n",
        "agent.compile( optimizer = torch.optim.Adam, loss = nn.SmoothL1Loss, \r\n",
        "              gamma = 0.9, memory_size = 10000, batch_size = 32, \r\n",
        "              eps_max = 0.02, eps_min = 0.02, lr = 0.00025, eps_decay = 0.99, copy_model = 1000)\r\n",
        "#rewards,test_rewards_run = agent.run(1, 4000) # This time we don't need to run"
      ],
      "execution_count": 12,
      "outputs": []
    },
    {
      "cell_type": "markdown",
      "metadata": {
        "id": "-R6jplTMC9F9"
      },
      "source": [
        "### Load the parameters of the pretrained model to the learning agent"
      ]
    },
    {
      "cell_type": "code",
      "metadata": {
        "id": "x2cWqSdb_h3H"
      },
      "source": [
        "## Load Parameters of the trained model (CUDA)\r\n",
        "agent.pretrainedParameters('model.pt')"
      ],
      "execution_count": 13,
      "outputs": []
    },
    {
      "cell_type": "markdown",
      "metadata": {
        "id": "Xx9YHWD9dUTB"
      },
      "source": [
        "## Evaluate the actions"
      ]
    },
    {
      "cell_type": "markdown",
      "metadata": {
        "id": "fNZkcNNQD-RF"
      },
      "source": [
        "### Average rewards per training episodes"
      ]
    },
    {
      "cell_type": "code",
      "metadata": {
        "colab": {
          "base_uri": "https://localhost:8080/",
          "height": 297
        },
        "id": "bKlDIzhpfHg5",
        "outputId": "5a28b2f2-5558-4f00-ab54-c130a9c2a537"
      },
      "source": [
        "name_doubleDQN = \"DoubleDQN_Classic\"\r\n",
        "doubleDQN_pd = pd.read_csv('DoubleDQN.csv',header = None)\r\n",
        "pd_data = doubleDQN_pd\r\n",
        "pd_data.columns = [name_doubleDQN]\r\n",
        "\r\n",
        "pd_data = pd_data.reset_index()\r\n",
        "bines = [(i) * 50 for i in list(range(101))]\r\n",
        "bines_lab = [(i) * 50 for i in list(range(100))]\r\n",
        "pd_data['binned'] = pd.cut(pd_data['index'], bins=bines, labels=bines_lab)\r\n",
        "pd_data = pd_data.fillna(0)\r\n",
        "datag = pd_data.groupby(['binned']).mean()\r\n",
        "datag = datag.reset_index()\r\n",
        "dataq_min = pd_data.groupby(['binned']).quantile(.10)\r\n",
        "dataq_min = dataq_min.reset_index()\r\n",
        "dataq_max = pd_data.groupby(['binned']).quantile(.90)\r\n",
        "dataq_max = dataq_max.reset_index()\r\n",
        "\r\n",
        "fig, ax = plt.subplots()\r\n",
        "ax.plot(np.array(datag['binned']),np.array(datag[name_doubleDQN]))\r\n",
        "ax.fill_between(datag['binned'], dataq_min[name_doubleDQN], dataq_max[name_doubleDQN], alpha=.3)\r\n",
        "\r\n",
        "ax.set_xlabel(\"Training episodes\")\r\n",
        "ax.set_ylabel(\"Reward\")\r\n",
        "\r\n",
        "ax.set_title('Double DQN rewards', fontsize=16)\r\n",
        "\r\n",
        "plt.show()"
      ],
      "execution_count": 14,
      "outputs": [
        {
          "output_type": "display_data",
          "data": {
            "image/png": "[encoded data removed]",
            "text/plain": [
              "<Figure size 432x288 with 1 Axes>"
            ]
          },
          "metadata": {
            "tags": [],
            "needs_background": "light"
          }
        }
      ]
    },
    {
      "cell_type": "markdown",
      "metadata": {
        "id": "iPBpIPWsEFfX"
      },
      "source": [
        "### See the agent in action!"
      ]
    },
    {
      "cell_type": "code",
      "metadata": {
        "id": "ZgF5K3XMpEB9",
        "colab": {
          "base_uri": "https://localhost:8080/",
          "height": 529
        },
        "outputId": "0b84ed81-70a5-4ab4-a23d-cc9828d33323"
      },
      "source": [
        "## Test without exploration - only model performance\r\n",
        "test_rewards = agent.test(50,4000,False, eps_test = 0)\r\n",
        "agent.test(1,4000,True)\r\n",
        "print(\"Average reward: \", statistics.mean(test_rewards))"
      ],
      "execution_count": 16,
      "outputs": [
        {
          "output_type": "display_data",
          "data": {
            "image/png": "[encoded data removed]",
            "text/plain": [
              "<Figure size 432x288 with 1 Axes>"
            ]
          },
          "metadata": {
            "tags": []
          }
        },
        {
          "output_type": "stream",
          "text": [
            "Average reward:  3063.0\n"
          ],
          "name": "stdout"
        },
        {
          "output_type": "display_data",
          "data": {
            "image/png": "[encoded data removed]",
            "text/plain": [
              "<Figure size 432x288 with 1 Axes>"
            ]
          },
          "metadata": {
            "tags": [],
            "needs_background": "light"
          }
        }
      ]
    }
  ]
}